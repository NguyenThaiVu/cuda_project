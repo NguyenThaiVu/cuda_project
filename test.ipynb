{
 "cells": [
  {
   "cell_type": "code",
   "execution_count": 1,
   "metadata": {},
   "outputs": [
    {
     "name": "stderr",
     "output_type": "stream",
     "text": [
      "2024-10-13 17:26:51.842492: E tensorflow/compiler/xla/stream_executor/cuda/cuda_dnn.cc:9342] Unable to register cuDNN factory: Attempting to register factory for plugin cuDNN when one has already been registered\n",
      "2024-10-13 17:26:51.842505: E tensorflow/compiler/xla/stream_executor/cuda/cuda_fft.cc:609] Unable to register cuFFT factory: Attempting to register factory for plugin cuFFT when one has already been registered\n",
      "2024-10-13 17:26:51.842521: E tensorflow/compiler/xla/stream_executor/cuda/cuda_blas.cc:1518] Unable to register cuBLAS factory: Attempting to register factory for plugin cuBLAS when one has already been registered\n",
      "/home/necphy/.local/lib/python3.10/site-packages/pandas/core/arrays/masked.py:60: UserWarning: Pandas requires version '1.3.6' or newer of 'bottleneck' (version '1.3.5' currently installed).\n",
      "  from pandas.core import (\n"
     ]
    }
   ],
   "source": [
    "import os\n",
    "os.environ['TF_CPP_MIN_LOG_LEVEL'] = '2' \n",
    "import tensorflow as tf\n",
    "gpus = tf.config.list_physical_devices('GPU')\n",
    "if gpus:\n",
    "  try:  tf.config.experimental.set_memory_growth(gpus[0], True)\n",
    "  except RuntimeError as e:  print(e)\n",
    "\n",
    "from PIL import Image\n",
    "import numpy as np\n",
    "import h5py\n",
    "import matplotlib.pyplot as plt\n",
    "import json\n",
    "import cv2\n",
    "\n",
    "from tensorflow.keras import layers, models\n",
    "from tensorflow.keras.datasets import mnist\n",
    "from tensorflow.keras.utils import to_categorical\n",
    "from tensorflow.keras.models import Sequential\n",
    "\n",
    "from tensorflow.keras import backend as K\n",
    "K.set_image_data_format('channels_first')"
   ]
  },
  {
   "cell_type": "code",
   "execution_count": 4,
   "metadata": {},
   "outputs": [
    {
     "name": "stdout",
     "output_type": "stream",
     "text": [
      "Shape of A: (500, 200)\n",
      "Shape of B: (200, 300)\n"
     ]
    }
   ],
   "source": [
    "height_1 = 500\n",
    "width_1 = 200\n",
    "\n",
    "height_2 = 200\n",
    "width_2 = 300\n",
    "\n",
    "A = np.arange(0, height_1 * width_1, 1)\n",
    "A = np.reshape(A, (height_1, width_1))\n",
    "print(f\"Shape of A: {A.shape}\")\n",
    "\n",
    "B = np.arange(0, height_2 * width_2, 1)\n",
    "B = np.reshape(B, (height_2, width_2))\n",
    "print(f\"Shape of B: {B.shape}\")"
   ]
  },
  {
   "cell_type": "code",
   "execution_count": 5,
   "metadata": {},
   "outputs": [
    {
     "name": "stdout",
     "output_type": "stream",
     "text": [
      "Shape of C: (500, 300)\n"
     ]
    }
   ],
   "source": [
    "C = np.matmul(A, B)\n",
    "print(f\"Shape of C: {C.shape}\")\n",
    "np.savetxt(os.path.join('weight', 'matrix_C.txt'), C.flatten(), fmt='%f', delimiter=' ')"
   ]
  },
  {
   "cell_type": "code",
   "execution_count": null,
   "metadata": {},
   "outputs": [],
   "source": []
  },
  {
   "cell_type": "code",
   "execution_count": 6,
   "metadata": {},
   "outputs": [
    {
     "data": {
      "text/plain": [
       "array([ 0,  1,  2,  3,  4,  5,  6,  7,  8,  9, 10, 11, 12, 13, 14, 15, 16,\n",
       "       17, 18, 19, 20, 21, 22, 23, 24, 25, 26, 27, 28, 29, 30, 31, 32, 33,\n",
       "       34, 35, 36, 37, 38, 39])"
      ]
     },
     "execution_count": 6,
     "metadata": {},
     "output_type": "execute_result"
    }
   ],
   "source": [
    "height = 4\n",
    "width = 5\n",
    "channel = 2\n",
    "\n",
    "A = np.arange(0, height * width * channel, 1)\n",
    "A"
   ]
  },
  {
   "cell_type": "code",
   "execution_count": 7,
   "metadata": {},
   "outputs": [
    {
     "name": "stdout",
     "output_type": "stream",
     "text": [
      "Shape of A: (4, 5, 2)\n"
     ]
    }
   ],
   "source": [
    "A = np.reshape(A, (height, width, channel))\n",
    "A = A.astype(np.uint8)\n",
    "print(f\"Shape of A: {A.shape}\")"
   ]
  },
  {
   "cell_type": "code",
   "execution_count": 8,
   "metadata": {},
   "outputs": [],
   "source": [
    "image = Image.fromarray(A)\n",
    "image.save(\"random_image.png\")"
   ]
  },
  {
   "cell_type": "code",
   "execution_count": 9,
   "metadata": {},
   "outputs": [
    {
     "data": {
      "text/plain": [
       "array([[[ 0,  1],\n",
       "        [ 2,  3],\n",
       "        [ 4,  5],\n",
       "        [ 6,  7],\n",
       "        [ 8,  9]],\n",
       "\n",
       "       [[10, 11],\n",
       "        [12, 13],\n",
       "        [14, 15],\n",
       "        [16, 17],\n",
       "        [18, 19]],\n",
       "\n",
       "       [[20, 21],\n",
       "        [22, 23],\n",
       "        [24, 25],\n",
       "        [26, 27],\n",
       "        [28, 29]],\n",
       "\n",
       "       [[30, 31],\n",
       "        [32, 33],\n",
       "        [34, 35],\n",
       "        [36, 37],\n",
       "        [38, 39]]], dtype=uint8)"
      ]
     },
     "execution_count": 9,
     "metadata": {},
     "output_type": "execute_result"
    }
   ],
   "source": [
    "A"
   ]
  },
  {
   "cell_type": "code",
   "execution_count": 5,
   "metadata": {},
   "outputs": [
    {
     "name": "stdout",
     "output_type": "stream",
     "text": [
      "(0, 0, 0): 0\n",
      "(0, 0, 1): 1\n",
      "(0, 1, 0): 2\n",
      "(0, 1, 1): 3\n",
      "(0, 2, 0): 4\n",
      "(0, 2, 1): 5\n",
      "(0, 3, 0): 6\n",
      "(0, 3, 1): 7\n",
      "(0, 4, 0): 8\n",
      "(0, 4, 1): 9\n",
      "(1, 0, 0): 10\n",
      "(1, 0, 1): 11\n",
      "(1, 1, 0): 12\n",
      "(1, 1, 1): 13\n",
      "(1, 2, 0): 14\n",
      "(1, 2, 1): 15\n",
      "(1, 3, 0): 16\n",
      "(1, 3, 1): 17\n",
      "(1, 4, 0): 18\n",
      "(1, 4, 1): 19\n",
      "(2, 0, 0): 20\n",
      "(2, 0, 1): 21\n",
      "(2, 1, 0): 22\n",
      "(2, 1, 1): 23\n",
      "(2, 2, 0): 24\n",
      "(2, 2, 1): 25\n",
      "(2, 3, 0): 26\n",
      "(2, 3, 1): 27\n",
      "(2, 4, 0): 28\n",
      "(2, 4, 1): 29\n",
      "(3, 0, 0): 30\n",
      "(3, 0, 1): 31\n",
      "(3, 1, 0): 32\n",
      "(3, 1, 1): 33\n",
      "(3, 2, 0): 34\n",
      "(3, 2, 1): 35\n",
      "(3, 3, 0): 36\n",
      "(3, 3, 1): 37\n",
      "(3, 4, 0): 38\n",
      "(3, 4, 1): 39\n"
     ]
    }
   ],
   "source": [
    "for i in range(height):\n",
    "    for j in range(width):\n",
    "        for k in range(channel):\n",
    "            print(f\"({i}, {j}, {k}): {A[i, j, k]}\")"
   ]
  },
  {
   "cell_type": "code",
   "execution_count": 57,
   "metadata": {},
   "outputs": [
    {
     "name": "stdout",
     "output_type": "stream",
     "text": [
      "Image converted and saved as image/input_image.png\n"
     ]
    }
   ],
   "source": [
    "from PIL import Image\n",
    "\n",
    "# Step 1: Open the JPG image\n",
    "jpg_image_path = 'image/input_image.jpg'\n",
    "image = Image.open(jpg_image_path)\n",
    "\n",
    "# Step 2: Convert and save the image as PNG\n",
    "png_image_path = 'image/input_image.png'\n",
    "image.save(png_image_path)\n",
    "\n",
    "print(f\"Image converted and saved as {png_image_path}\")\n"
   ]
  },
  {
   "cell_type": "code",
   "execution_count": null,
   "metadata": {},
   "outputs": [],
   "source": []
  }
 ],
 "metadata": {
  "kernelspec": {
   "display_name": "ds_env",
   "language": "python",
   "name": "python3"
  },
  "language_info": {
   "codemirror_mode": {
    "name": "ipython",
    "version": 3
   },
   "file_extension": ".py",
   "mimetype": "text/x-python",
   "name": "python",
   "nbconvert_exporter": "python",
   "pygments_lexer": "ipython3",
   "version": "3.10.13"
  }
 },
 "nbformat": 4,
 "nbformat_minor": 2
}
