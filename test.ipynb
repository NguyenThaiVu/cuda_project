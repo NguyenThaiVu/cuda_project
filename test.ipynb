{
 "cells": [
  {
   "cell_type": "code",
   "execution_count": 5,
   "metadata": {},
   "outputs": [],
   "source": [
    "import os\n",
    "os.environ['TF_CPP_MIN_LOG_LEVEL'] = '2' \n",
    "import tensorflow as tf\n",
    "gpus = tf.config.list_physical_devices('GPU')\n",
    "if gpus:\n",
    "  try:  tf.config.experimental.set_memory_growth(gpus[0], True)\n",
    "  except RuntimeError as e:  print(e)\n",
    "\n",
    "from PIL import Image\n",
    "import numpy as np\n",
    "import h5py\n",
    "import matplotlib.pyplot as plt\n",
    "import json\n",
    "import cv2\n",
    "\n",
    "from tensorflow.keras import layers, models\n",
    "from tensorflow.keras.datasets import mnist\n",
    "from tensorflow.keras.utils import to_categorical\n",
    "from tensorflow.keras.models import Sequential\n",
    "\n",
    "from tensorflow.keras import backend as K\n",
    "K.set_image_data_format('channels_first')"
   ]
  },
  {
   "cell_type": "markdown",
   "metadata": {},
   "source": [
    "# Test Conv"
   ]
  },
  {
   "cell_type": "code",
   "execution_count": 16,
   "metadata": {},
   "outputs": [],
   "source": [
    "C_in = 3\n",
    "H_in = 5\n",
    "W_in = 5\n",
    "x = np.random.randint(0, 5, size=(C_in, H_in, W_in))    \n",
    "x = x.astype(np.float32) \n",
    "\n",
    "np.savetxt('zz_x.txt', x.flatten(), fmt='%f', delimiter=' ')"
   ]
  },
  {
   "cell_type": "code",
   "execution_count": 12,
   "metadata": {},
   "outputs": [],
   "source": [
    "tf.keras.backend.clear_session()\n",
    "\n",
    "C_out = 2\n",
    "K = 3\n",
    "\n",
    "w = tf.keras.layers.Conv2D(C_out, (K, K), use_bias=False, input_shape=(C_in, H_in, W_in), data_format='channels_first')"
   ]
  },
  {
   "cell_type": "code",
   "execution_count": 18,
   "metadata": {},
   "outputs": [
    {
     "name": "stdout",
     "output_type": "stream",
     "text": [
      "Shape y: (2, 3, 3)\n"
     ]
    }
   ],
   "source": [
    "y = w(np.expand_dims(x, axis=0))\n",
    "y = y[0, :].numpy()\n",
    "print(f\"Shape y: {y.shape}\")\n",
    "\n",
    "np.savetxt('zz_y.txt', y.flatten(), fmt='%f', delimiter=' ')"
   ]
  },
  {
   "cell_type": "code",
   "execution_count": 20,
   "metadata": {},
   "outputs": [
    {
     "data": {
      "text/plain": [
       "array([[[ 2.5325222 ,  1.6139797 ,  1.0411434 ],\n",
       "        [ 1.6274841 ,  4.197127  ,  4.771555  ],\n",
       "        [ 2.477254  ,  3.8891191 ,  1.4037782 ]],\n",
       "\n",
       "       [[ 1.3302975 , -2.7124486 ,  0.13538164],\n",
       "        [-0.31014547, -4.419247  , -1.1445129 ],\n",
       "        [ 2.4885478 ,  0.525429  , -1.8610804 ]]], dtype=float32)"
      ]
     },
     "execution_count": 20,
     "metadata": {},
     "output_type": "execute_result"
    }
   ],
   "source": [
    "y"
   ]
  },
  {
   "cell_type": "code",
   "execution_count": 19,
   "metadata": {},
   "outputs": [
    {
     "name": "stdout",
     "output_type": "stream",
     "text": [
      "Shape weight_matrix: (2, 3, 3, 3)\n"
     ]
    }
   ],
   "source": [
    "weight_matrix = tf.transpose(w.weights[0], perm=[3, 2, 0, 1]).numpy()\n",
    "print(f\"Shape weight_matrix: {weight_matrix.shape}\")\n",
    "\n",
    "np.savetxt('zz_w.txt', weight_matrix.flatten(), fmt='%f', delimiter=' ')"
   ]
  },
  {
   "cell_type": "markdown",
   "metadata": {},
   "source": [
    "# Test Dense"
   ]
  },
  {
   "cell_type": "code",
   "execution_count": 57,
   "metadata": {},
   "outputs": [],
   "source": [
    "BATCH_SIZE = 1\n",
    "n_in = 21632\n",
    "n_out = 10\n",
    "\n",
    "x = np.random.randint(0, 5, size=(BATCH_SIZE, n_in))    \n",
    "x = x.astype(np.float32) \n",
    "\n",
    "np.savetxt('zz_x.txt', x[0].flatten(), fmt='%f', delimiter=' ')"
   ]
  },
  {
   "cell_type": "code",
   "execution_count": 64,
   "metadata": {},
   "outputs": [],
   "source": [
    "tf.keras.backend.clear_session()\n",
    "\n",
    "w = np.random.randint(0, 5, size=(n_in, n_out))\n",
    "w = tf.convert_to_tensor(w, dtype=tf.float32)\n",
    "\n",
    "b = np.random.randint(0, 5, size=(n_out))\n",
    "b = tf.convert_to_tensor(b, dtype=tf.float32)\n",
    "\n",
    "np.savetxt('zz_w.txt', w.numpy().flatten(), fmt='%f', delimiter=' ')\n",
    "np.savetxt('zz_b.txt', b.numpy().flatten(), fmt='%f', delimiter=' ')"
   ]
  },
  {
   "cell_type": "code",
   "execution_count": 65,
   "metadata": {},
   "outputs": [
    {
     "name": "stdout",
     "output_type": "stream",
     "text": [
      "Shape y: (1, 10)\n"
     ]
    }
   ],
   "source": [
    "z = tf.matmul(x, w) + b  \n",
    "print(f\"Shape y: {y.shape}\")\n",
    "\n",
    "np.savetxt('zz_y.txt', y.flatten(), fmt='%f', delimiter=' ')"
   ]
  },
  {
   "cell_type": "code",
   "execution_count": 66,
   "metadata": {},
   "outputs": [
    {
     "data": {
      "text/plain": [
       "array([[85668., 85739., 86056., 86338., 87272., 85679., 85096., 85764.,\n",
       "        85934., 85773.]])"
      ]
     },
     "execution_count": 66,
     "metadata": {},
     "output_type": "execute_result"
    }
   ],
   "source": [
    "y"
   ]
  },
  {
   "cell_type": "markdown",
   "metadata": {},
   "source": [
    "# Test Flatten layer"
   ]
  },
  {
   "cell_type": "code",
   "execution_count": 97,
   "metadata": {},
   "outputs": [
    {
     "data": {
      "text/plain": [
       "array([3, 2, 4, 0, 3, 4, 3, 4, 2, 3, 0, 3, 1, 3, 3, 3, 1, 2, 2, 2, 4, 2,\n",
       "       1, 0, 3, 2, 2, 0, 2, 1, 3, 1, 2, 1, 0, 4, 4, 3, 2, 1, 0, 4, 1, 0,\n",
       "       3, 0, 3, 1, 1, 2, 2, 0, 4, 4, 4, 3, 1, 3, 4, 2, 4, 2, 1, 2, 3, 2,\n",
       "       0, 0, 1, 2, 3, 1, 1, 4, 2])"
      ]
     },
     "execution_count": 97,
     "metadata": {},
     "output_type": "execute_result"
    }
   ],
   "source": [
    "x = np.random.randint(0, 5, size=(1, C_in, H_in, W_in))    \n",
    "x.flatten()"
   ]
  },
  {
   "cell_type": "code",
   "execution_count": 98,
   "metadata": {},
   "outputs": [],
   "source": [
    "class CustomFlatten(tf.keras.layers.Layer):\n",
    "    def __init__(self):\n",
    "        super(CustomFlatten, self).__init__()\n",
    "\n",
    "    def call(self, inputs):\n",
    "        return tf.reshape(inputs, [tf.shape(inputs)[0], -1])"
   ]
  },
  {
   "cell_type": "code",
   "execution_count": 99,
   "metadata": {},
   "outputs": [
    {
     "name": "stdout",
     "output_type": "stream",
     "text": [
      "Custom Flatten: [[3 2 4 0 3 4 3 4 2 3 0 3 1 3 3 3 1 2 2 2 4 2 1 0 3 2 2 0 2 1 3 1 2 1 0 4\n",
      "  4 3 2 1 0 4 1 0 3 0 3 1 1 2 2 0 4 4 4 3 1 3 4 2 4 2 1 2 3 2 0 0 1 2 3 1\n",
      "  1 4 2]]\n",
      "\n"
     ]
    }
   ],
   "source": [
    "y = CustomFlatten()(x)\n",
    "print(f\"Custom Flatten: {y}\")\n",
    "print()"
   ]
  },
  {
   "cell_type": "code",
   "execution_count": 78,
   "metadata": {},
   "outputs": [
    {
     "data": {
      "text/plain": [
       "TensorShape([1, 75])"
      ]
     },
     "execution_count": 78,
     "metadata": {},
     "output_type": "execute_result"
    }
   ],
   "source": [
    "y.shape"
   ]
  },
  {
   "cell_type": "code",
   "execution_count": 79,
   "metadata": {},
   "outputs": [
    {
     "data": {
      "text/plain": [
       "array([[[[3., 2., 4., 3., 3.],\n",
       "         [2., 1., 3., 2., 1.],\n",
       "         [4., 1., 2., 0., 4.],\n",
       "         [3., 0., 3., 1., 4.],\n",
       "         [0., 3., 0., 1., 2.]],\n",
       "\n",
       "        [[4., 3., 0., 0., 0.],\n",
       "         [1., 1., 4., 1., 2.],\n",
       "         [2., 0., 3., 0., 4.],\n",
       "         [2., 2., 3., 2., 1.],\n",
       "         [0., 3., 2., 3., 2.]],\n",
       "\n",
       "        [[2., 4., 4., 0., 2.],\n",
       "         [0., 4., 2., 0., 2.],\n",
       "         [4., 2., 3., 2., 1.],\n",
       "         [4., 2., 2., 2., 1.],\n",
       "         [2., 2., 4., 3., 4.]]]], dtype=float32)"
      ]
     },
     "execution_count": 79,
     "metadata": {},
     "output_type": "execute_result"
    }
   ],
   "source": [
    "x"
   ]
  },
  {
   "cell_type": "code",
   "execution_count": null,
   "metadata": {},
   "outputs": [],
   "source": []
  }
 ],
 "metadata": {
  "kernelspec": {
   "display_name": "ds_env",
   "language": "python",
   "name": "python3"
  },
  "language_info": {
   "codemirror_mode": {
    "name": "ipython",
    "version": 3
   },
   "file_extension": ".py",
   "mimetype": "text/x-python",
   "name": "python",
   "nbconvert_exporter": "python",
   "pygments_lexer": "ipython3",
   "version": "3.10.13"
  }
 },
 "nbformat": 4,
 "nbformat_minor": 2
}
