{
 "cells": [
  {
   "cell_type": "code",
   "execution_count": 2,
   "metadata": {},
   "outputs": [],
   "source": [
    "import os\n",
    "os.environ['TF_CPP_MIN_LOG_LEVEL'] = '2' \n",
    "import tensorflow as tf\n",
    "gpus = tf.config.list_physical_devices('GPU')\n",
    "if gpus:\n",
    "  try:  tf.config.experimental.set_memory_growth(gpus[0], True)\n",
    "  except RuntimeError as e:  print(e)\n",
    "\n",
    "from PIL import Image\n",
    "import numpy as np\n",
    "import h5py\n",
    "import matplotlib.pyplot as plt\n",
    "import json\n",
    "import cv2\n",
    "\n",
    "from tensorflow.keras import layers, models\n",
    "from tensorflow.keras.datasets import mnist\n",
    "from tensorflow.keras.utils import to_categorical\n",
    "from tensorflow.keras.models import Sequential\n",
    "\n",
    "from tensorflow.keras import backend as K\n",
    "K.set_image_data_format('channels_first')"
   ]
  },
  {
   "cell_type": "code",
   "execution_count": 14,
   "metadata": {},
   "outputs": [
    {
     "name": "stdout",
     "output_type": "stream",
     "text": [
      "Shape of A: (50, 20)\n",
      "Shape of B: (20, 30)\n"
     ]
    }
   ],
   "source": [
    "height_1 = 50\n",
    "width_1 = 20\n",
    "\n",
    "height_2 = 20\n",
    "width_2 = 30\n",
    "\n",
    "A = np.arange(0, height_1 * width_1, 1)\n",
    "A = np.reshape(A, (height_1, width_1))\n",
    "print(f\"Shape of A: {A.shape}\")\n",
    "\n",
    "B = np.arange(0, height_2 * width_2, 1)\n",
    "B = np.reshape(B, (height_2, width_2))\n",
    "print(f\"Shape of B: {B.shape}\")"
   ]
  },
  {
   "cell_type": "code",
   "execution_count": 15,
   "metadata": {},
   "outputs": [
    {
     "name": "stdout",
     "output_type": "stream",
     "text": [
      "Shape of C: (50, 30)\n"
     ]
    }
   ],
   "source": [
    "C = np.matmul(A, B)\n",
    "print(f\"Shape of C: {C.shape}\")\n",
    "np.savetxt(os.path.join('weight', 'matrix_C.txt'), C.flatten(), fmt='%f', delimiter=' ')"
   ]
  },
  {
   "cell_type": "code",
   "execution_count": null,
   "metadata": {},
   "outputs": [],
   "source": []
  }
 ],
 "metadata": {
  "kernelspec": {
   "display_name": "ds_env",
   "language": "python",
   "name": "python3"
  },
  "language_info": {
   "codemirror_mode": {
    "name": "ipython",
    "version": 3
   },
   "file_extension": ".py",
   "mimetype": "text/x-python",
   "name": "python",
   "nbconvert_exporter": "python",
   "pygments_lexer": "ipython3",
   "version": "3.10.13"
  }
 },
 "nbformat": 4,
 "nbformat_minor": 2
}
