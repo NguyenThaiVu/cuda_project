{
 "cells": [
  {
   "cell_type": "code",
   "execution_count": 22,
   "metadata": {},
   "outputs": [],
   "source": [
    "import os\n",
    "os.environ['TF_CPP_MIN_LOG_LEVEL'] = '2' \n",
    "import tensorflow as tf\n",
    "gpus = tf.config.list_physical_devices('GPU')\n",
    "if gpus:\n",
    "  try:  tf.config.set_visible_devices(gpus[0], 'GPU')\n",
    "  except RuntimeError as e:  print(e)\n",
    "\n",
    "import numpy as np\n",
    "import h5py\n",
    "import matplotlib.pyplot as plt\n",
    "import json\n",
    "\n",
    "from tensorflow.keras import layers, models\n",
    "from tensorflow.keras.datasets import mnist\n",
    "from tensorflow.keras.utils import to_categorical\n",
    "from tensorflow.keras.models import Sequential\n"
   ]
  },
  {
   "cell_type": "code",
   "execution_count": 15,
   "metadata": {},
   "outputs": [
    {
     "name": "stdout",
     "output_type": "stream",
     "text": [
      "Shape of X_train: (60000, 784)\n",
      "Shape of y_train: (60000, 10)\n",
      "Shape of X_test: (10000, 784)\n",
      "Shape of y_test: (10000, 10)\n"
     ]
    }
   ],
   "source": [
    "# Load and preprocess the MNIST dataset\n",
    "(x_train, y_train), (x_test, y_test) = mnist.load_data()\n",
    "\n",
    "# Flatten the 28x28 images into vectors of 784 elements\n",
    "x_train = x_train.reshape(-1, 28 * 28).astype('float32') / 255\n",
    "x_test = x_test.reshape(-1, 28 * 28).astype('float32') / 255\n",
    "\n",
    "# Convert the labels to one-hot encoding\n",
    "y_train = to_categorical(y_train, 10)\n",
    "y_test = to_categorical(y_test, 10)\n",
    "        \n",
    "print(f\"Shape of X_train: {x_train.shape}\")\n",
    "print(f\"Shape of y_train: {y_train.shape}\")\n",
    "print(f\"Shape of X_test: {x_test.shape}\")\n",
    "print(f\"Shape of y_test: {y_test.shape}\")"
   ]
  },
  {
   "cell_type": "code",
   "execution_count": 16,
   "metadata": {},
   "outputs": [
    {
     "data": {
      "text/plain": [
       "<matplotlib.image.AxesImage at 0x7fbf685ca4a0>"
      ]
     },
     "execution_count": 16,
     "metadata": {},
     "output_type": "execute_result"
    },
    {
     "data": {
      "image/png": "[encoded data removed]",
      "text/plain": [
       "<Figure size 640x480 with 1 Axes>"
      ]
     },
     "metadata": {},
     "output_type": "display_data"
    }
   ],
   "source": [
    "idx = np.random.randint(0, x_train.shape[0])\n",
    "image = x_train[idx].reshape(28, 28)\n",
    "label = y_train[idx]\n",
    "\n",
    "plt.imshow(image, cmap='gray');"
   ]
  },
  {
   "cell_type": "code",
   "execution_count": 19,
   "metadata": {},
   "outputs": [
    {
     "name": "stdout",
     "output_type": "stream",
     "text": [
      "Model: \"sequential\"\n",
      "_________________________________________________________________\n",
      " Layer (type)                Output Shape              Param #   \n",
      "=================================================================\n",
      " dense (Dense)               (None, 128)               100480    \n",
      "                                                                 \n",
      " dense_1 (Dense)             (None, 10)                1290      \n",
      "                                                                 \n",
      "=================================================================\n",
      "Total params: 101770 (397.54 KB)\n",
      "Trainable params: 101770 (397.54 KB)\n",
      "Non-trainable params: 0 (0.00 Byte)\n",
      "_________________________________________________________________\n"
     ]
    }
   ],
   "source": [
    "# Model Configuration\n",
    "input_size = 784\n",
    "hidden_layer_size = 128\n",
    "output_size = 10\n",
    "\n",
    "# Building the Fully Connected Neural Network\n",
    "tf.keras.backend.clear_session()\n",
    "model = Sequential([\n",
    "    layers.Dense(hidden_layer_size, input_dim=input_size, activation='relu'),  # Hidden layer with 128 neurons\n",
    "    layers.Dense(output_size, activation='softmax')  # Output layer with 10 neurons (softmax for classification)\n",
    "])\n",
    "\n",
    "# Compile the model\n",
    "model.compile(optimizer='adam', loss='categorical_crossentropy', metrics=['accuracy'])\n",
    "model.summary()"
   ]
  },
  {
   "cell_type": "code",
   "execution_count": 20,
   "metadata": {},
   "outputs": [
    {
     "name": "stdout",
     "output_type": "stream",
     "text": [
      "Epoch 1/5\n"
     ]
    },
    {
     "name": "stdout",
     "output_type": "stream",
     "text": [
      "1875/1875 [==============================] - 1s 682us/step - loss: 0.2582 - accuracy: 0.9267 - val_loss: 0.1438 - val_accuracy: 0.9558\n",
      "Epoch 2/5\n",
      "1875/1875 [==============================] - 1s 651us/step - loss: 0.1131 - accuracy: 0.9671 - val_loss: 0.1014 - val_accuracy: 0.9688\n",
      "Epoch 3/5\n",
      "1875/1875 [==============================] - 1s 656us/step - loss: 0.0778 - accuracy: 0.9771 - val_loss: 0.0912 - val_accuracy: 0.9725\n",
      "Epoch 4/5\n",
      "1875/1875 [==============================] - 1s 667us/step - loss: 0.0600 - accuracy: 0.9821 - val_loss: 0.0830 - val_accuracy: 0.9755\n",
      "Epoch 5/5\n",
      "1875/1875 [==============================] - 1s 657us/step - loss: 0.0460 - accuracy: 0.9859 - val_loss: 0.0751 - val_accuracy: 0.9773\n",
      "313/313 - 0s - loss: 0.0751 - accuracy: 0.9773 - 167ms/epoch - 534us/step\n",
      "Test accuracy: 0.9773\n"
     ]
    }
   ],
   "source": [
    "# Train the model\n",
    "history = model.fit(x_train, y_train, epochs=5, batch_size=32, validation_data=(x_test, y_test))\n",
    "\n",
    "# Evaluate the model on the test set\n",
    "test_loss, test_acc = model.evaluate(x_test, y_test, verbose=2)\n",
    "\n",
    "print(f\"Test accuracy: {test_acc:.4f}\")"
   ]
  },
  {
   "cell_type": "markdown",
   "metadata": {},
   "source": [
    "# Save trained weight into `txt` format."
   ]
  },
  {
   "cell_type": "code",
   "execution_count": 28,
   "metadata": {},
   "outputs": [],
   "source": [
    "PATH_WEIGHT_FOLDER = r\"weight\"\n",
    "\n",
    "weights = model.get_weights()"
   ]
  },
  {
   "cell_type": "code",
   "execution_count": 33,
   "metadata": {},
   "outputs": [
    {
     "name": "stdout",
     "output_type": "stream",
     "text": [
      "Weights and biases saved to separate .txt files.\n"
     ]
    }
   ],
   "source": [
    "# Save layer 1 (weights and biases)\n",
    "np.savetxt(os.path.join(PATH_WEIGHT_FOLDER, 'hidden_weights.txt'), weights[0].flatten(), delimiter=' ')\n",
    "np.savetxt(os.path.join(PATH_WEIGHT_FOLDER, 'hidden_bias.txt'), weights[1], delimiter=' ')\n",
    "\n",
    "# Save layer 2 (weights and biases)\n",
    "np.savetxt(os.path.join(PATH_WEIGHT_FOLDER, 'output_weights.txt'), weights[2].flatten(), delimiter=' ')\n",
    "np.savetxt(os.path.join(PATH_WEIGHT_FOLDER, 'output_bias.txt'), weights[3], delimiter=' ')\n",
    "\n",
    "print(\"Weights and biases saved to separate .txt files.\")"
   ]
  },
  {
   "cell_type": "markdown",
   "metadata": {},
   "source": [
    "# Convert image to grayscale for inference"
   ]
  },
  {
   "cell_type": "code",
   "execution_count": 43,
   "metadata": {},
   "outputs": [],
   "source": [
    "from PIL import Image\n",
    "\n",
    "input_image_path = 'image/digit.jpg'  \n",
    "image = Image.open(input_image_path)\n",
    "\n",
    "gray_image = image.convert('L')\n",
    "\n",
    "resized_image = gray_image.resize((28, 28))\n",
    "\n",
    "# Save the resulting image\n",
    "output_image_path = 'image/digit_gray.jpg'\n",
    "resized_image.save(output_image_path)\n"
   ]
  },
  {
   "cell_type": "code",
   "execution_count": null,
   "metadata": {},
   "outputs": [],
   "source": []
  },
  {
   "cell_type": "code",
   "execution_count": null,
   "metadata": {},
   "outputs": [],
   "source": []
  },
  {
   "cell_type": "code",
   "execution_count": 38,
   "metadata": {},
   "outputs": [
    {
     "data": {
      "text/plain": [
       "array([255, 255, 255, 255, 255, 255, 255, 255, 255, 255, 255, 255, 255,\n",
       "       255, 255, 255, 255, 255, 255, 255, 255, 255, 255, 255, 255, 255,\n",
       "       255, 255, 255, 255, 255, 255], dtype=uint8)"
      ]
     },
     "execution_count": 38,
     "metadata": {},
     "output_type": "execute_result"
    }
   ],
   "source": []
  }
 ],
 "metadata": {
  "kernelspec": {
   "display_name": "ds_env",
   "language": "python",
   "name": "python3"
  },
  "language_info": {
   "codemirror_mode": {
    "name": "ipython",
    "version": 3
   },
   "file_extension": ".py",
   "mimetype": "text/x-python",
   "name": "python",
   "nbconvert_exporter": "python",
   "pygments_lexer": "ipython3",
   "version": "3.10.13"
  }
 },
 "nbformat": 4,
 "nbformat_minor": 2
}
