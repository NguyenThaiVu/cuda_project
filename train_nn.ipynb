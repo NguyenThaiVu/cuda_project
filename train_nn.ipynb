{
 "cells": [
  {
   "cell_type": "code",
   "execution_count": 10,
   "metadata": {},
   "outputs": [],
   "source": [
    "import os\n",
    "os.environ['TF_CPP_MIN_LOG_LEVEL'] = '2' \n",
    "import tensorflow as tf\n",
    "gpus = tf.config.list_physical_devices('GPU')\n",
    "if gpus:\n",
    "  try:  tf.config.set_visible_devices(gpus[0], 'GPU')\n",
    "  except RuntimeError as e:  print(e)\n",
    "\n",
    "import numpy as np\n",
    "import h5py\n",
    "import matplotlib.pyplot as plt\n",
    "import json\n",
    "from PIL import Image\n",
    "\n",
    "\n",
    "from tensorflow.keras import layers, models\n",
    "from tensorflow.keras.datasets import mnist\n",
    "from tensorflow.keras.utils import to_categorical\n",
    "from tensorflow.keras.models import Sequential\n",
    "from tensorflow.keras.preprocessing import image\n"
   ]
  },
  {
   "cell_type": "code",
   "execution_count": 2,
   "metadata": {},
   "outputs": [
    {
     "name": "stdout",
     "output_type": "stream",
     "text": [
      "Shape of X_train: (60000, 784)\n",
      "Shape of y_train: (60000, 10)\n",
      "Shape of X_test: (10000, 784)\n",
      "Shape of y_test: (10000, 10)\n"
     ]
    }
   ],
   "source": [
    "# Load and preprocess the MNIST dataset\n",
    "(x_train, y_train), (x_test, y_test) = mnist.load_data()\n",
    "\n",
    "# Flatten the 28x28 images into vectors of 784 elements\n",
    "x_train = x_train.reshape(-1, 28 * 28).astype('float32') / 255\n",
    "x_test = x_test.reshape(-1, 28 * 28).astype('float32') / 255\n",
    "\n",
    "# Convert the labels to one-hot encoding\n",
    "y_train = to_categorical(y_train, 10)\n",
    "y_test = to_categorical(y_test, 10)\n",
    "        \n",
    "print(f\"Shape of X_train: {x_train.shape}\")\n",
    "print(f\"Shape of y_train: {y_train.shape}\")\n",
    "print(f\"Shape of X_test: {x_test.shape}\")\n",
    "print(f\"Shape of y_test: {y_test.shape}\")"
   ]
  },
  {
   "cell_type": "code",
   "execution_count": 3,
   "metadata": {},
   "outputs": [
    {
     "data": {
      "image/png": "[encoded data removed]",
      "text/plain": [
       "<Figure size 640x480 with 1 Axes>"
      ]
     },
     "metadata": {},
     "output_type": "display_data"
    }
   ],
   "source": [
    "idx = np.random.randint(0, x_train.shape[0])\n",
    "image = x_train[idx].reshape(28, 28)\n",
    "label = y_train[idx]\n",
    "\n",
    "plt.imshow(image, cmap='gray');"
   ]
  },
  {
   "cell_type": "markdown",
   "metadata": {},
   "source": [
    "# Define model "
   ]
  },
  {
   "cell_type": "code",
   "execution_count": 23,
   "metadata": {},
   "outputs": [],
   "source": [
    "class CustomDense(tf.keras.layers.Layer):\n",
    "    def __init__(self, n_in, n_out, activation=None):\n",
    "        super(CustomDense, self).__init__()\n",
    "        self.n_in = n_in\n",
    "        self.n_out = n_out\n",
    "        self.activation = tf.keras.activations.get(activation)\n",
    "\n",
    "    def build(self, input_shape):\n",
    "        # Initialize weights and bias\n",
    "        self.w = self.add_weight(shape=(self.n_in, self.n_out), initializer='random_normal', trainable=True)\n",
    "        self.b = self.add_weight(shape=(self.n_out,), initializer='random_normal', trainable=True)\n",
    "\n",
    "    def call(self, inputs):\n",
    "        z = tf.matmul(inputs, self.w) + self.b  \n",
    "        if self.activation:\n",
    "            z = self.activation(z)  \n",
    "        return z  \n",
    "    "
   ]
  },
  {
   "cell_type": "code",
   "execution_count": 25,
   "metadata": {},
   "outputs": [],
   "source": [
    "# Model Configuration\n",
    "input_size = 784\n",
    "hidden_layer_size = 128\n",
    "output_size = 10\n",
    "\n",
    "# Building the Fully Connected Neural Network\n",
    "tf.keras.backend.clear_session()\n",
    "model = Sequential([\n",
    "    CustomDense(n_in=input_size, n_out=hidden_layer_size),  \n",
    "    layers.Activation('relu'),\n",
    "    CustomDense(n_in=hidden_layer_size, n_out=output_size),\n",
    "    layers.Activation('softmax'),\n",
    "])\n",
    "\n",
    "# Compile the model\n",
    "model.compile(optimizer='adam', loss='categorical_crossentropy', metrics=['accuracy'])\n",
    "# model.summary()"
   ]
  },
  {
   "cell_type": "code",
   "execution_count": 26,
   "metadata": {},
   "outputs": [
    {
     "name": "stdout",
     "output_type": "stream",
     "text": [
      "Epoch 1/5\n",
      "1875/1875 [==============================] - 2s 729us/step - loss: 0.2906 - accuracy: 0.9187 - val_loss: 0.1469 - val_accuracy: 0.9573\n",
      "Epoch 2/5\n",
      "1875/1875 [==============================] - 1s 683us/step - loss: 0.1248 - accuracy: 0.9629 - val_loss: 0.1043 - val_accuracy: 0.9682\n",
      "Epoch 3/5\n",
      "1875/1875 [==============================] - 1s 675us/step - loss: 0.0843 - accuracy: 0.9752 - val_loss: 0.0862 - val_accuracy: 0.9739\n",
      "Epoch 4/5\n",
      "1875/1875 [==============================] - 1s 682us/step - loss: 0.0612 - accuracy: 0.9815 - val_loss: 0.0770 - val_accuracy: 0.9762\n",
      "Epoch 5/5\n",
      "1875/1875 [==============================] - 1s 684us/step - loss: 0.0484 - accuracy: 0.9852 - val_loss: 0.0758 - val_accuracy: 0.9762\n",
      "313/313 - 0s - loss: 0.0758 - accuracy: 0.9762 - 164ms/epoch - 522us/step\n",
      "Test accuracy: 0.9762\n"
     ]
    }
   ],
   "source": [
    "# Train the model\n",
    "history = model.fit(x_train, y_train, epochs=5, batch_size=32, validation_data=(x_test, y_test))\n",
    "\n",
    "# Evaluate the model on the test set\n",
    "test_loss, test_acc = model.evaluate(x_test, y_test, verbose=2)\n",
    "\n",
    "print(f\"Test accuracy: {test_acc:.4f}\")"
   ]
  },
  {
   "cell_type": "markdown",
   "metadata": {},
   "source": [
    "# Save trained weight into `txt` format."
   ]
  },
  {
   "cell_type": "code",
   "execution_count": 27,
   "metadata": {},
   "outputs": [],
   "source": [
    "PATH_WEIGHT_FOLDER = r\"weight\"\n",
    "\n",
    "weights = model.get_weights()"
   ]
  },
  {
   "cell_type": "code",
   "execution_count": 29,
   "metadata": {},
   "outputs": [
    {
     "data": {
      "text/plain": [
       "4"
      ]
     },
     "execution_count": 29,
     "metadata": {},
     "output_type": "execute_result"
    }
   ],
   "source": [
    "len(weights)"
   ]
  },
  {
   "cell_type": "code",
   "execution_count": 30,
   "metadata": {},
   "outputs": [
    {
     "name": "stdout",
     "output_type": "stream",
     "text": [
      "Weights and biases saved to separate .txt files.\n"
     ]
    }
   ],
   "source": [
    "# Save layer 1 (weights and biases)\n",
    "np.savetxt(os.path.join(PATH_WEIGHT_FOLDER, 'hidden_weights.txt'), weights[0].flatten(), fmt='%f', delimiter=' ')\n",
    "np.savetxt(os.path.join(PATH_WEIGHT_FOLDER, 'hidden_bias.txt'), weights[1], fmt='%f', delimiter=' ')\n",
    "\n",
    "# Save layer 2 (weights and biases)\n",
    "np.savetxt(os.path.join(PATH_WEIGHT_FOLDER, 'output_weights.txt'), weights[2].flatten(), fmt='%f', delimiter=' ')\n",
    "np.savetxt(os.path.join(PATH_WEIGHT_FOLDER, 'output_bias.txt'), weights[3], fmt='%f', delimiter=' ')\n",
    "\n",
    "print(\"Weights and biases saved to separate .txt files.\")"
   ]
  },
  {
   "cell_type": "markdown",
   "metadata": {},
   "source": [
    "# Run inference"
   ]
  },
  {
   "cell_type": "code",
   "execution_count": 31,
   "metadata": {},
   "outputs": [],
   "source": [
    "input_image_path = 'image/digit_gray.jpg'\n",
    "\n",
    "img = image.load_img(input_image_path, target_size=(28, 28), color_mode=\"grayscale\")\n",
    "img_array = image.img_to_array(img)\n",
    "img_array = img_array / 255.0  \n",
    "img_array = np.reshape(img_array, (1, 784))  # Flatten the image to shape (1, 784)"
   ]
  },
  {
   "cell_type": "code",
   "execution_count": 32,
   "metadata": {},
   "outputs": [
    {
     "name": "stdout",
     "output_type": "stream",
     "text": [
      "1/1 [==============================] - 0s 18ms/step\n",
      "Model Inference (Softmax Probabilities): [4.1252638e-13 9.5248961e-16 9.9651015e-07 1.6341355e-06 6.5210619e-23\n",
      " 1.3017629e-03 2.1087857e-15 9.9869567e-01 5.7997686e-18 1.0085674e-19]\n",
      "Predicted Digit: 7\n",
      "Predicted Digit Probability: 0.9987\n"
     ]
    }
   ],
   "source": [
    "prediction = model.predict(img_array)[0]\n",
    "\n",
    "print(\"Model Inference (Softmax Probabilities):\", prediction)\n",
    "print(\"Predicted Digit:\", np.argmax(prediction))\n",
    "print(f\"Predicted Digit Probability: {prediction[np.argmax(prediction)]:.4f}\")"
   ]
  },
  {
   "cell_type": "markdown",
   "metadata": {},
   "source": [
    "# Convert image to grayscale for inference"
   ]
  },
  {
   "cell_type": "code",
   "execution_count": 9,
   "metadata": {},
   "outputs": [],
   "source": [
    "input_image_path = 'image/digit.jpg'  \n",
    "image = Image.open(input_image_path)\n",
    "\n",
    "gray_image = image.convert('L')\n",
    "\n",
    "resized_image = gray_image.resize((28, 28))\n",
    "\n",
    "# Save the resulting image\n",
    "output_image_path = 'image/digit_gray.jpg'\n",
    "resized_image.save(output_image_path)"
   ]
  },
  {
   "cell_type": "code",
   "execution_count": null,
   "metadata": {},
   "outputs": [],
   "source": []
  },
  {
   "cell_type": "code",
   "execution_count": null,
   "metadata": {},
   "outputs": [],
   "source": []
  },
  {
   "cell_type": "code",
   "execution_count": null,
   "metadata": {},
   "outputs": [],
   "source": []
  }
 ],
 "metadata": {
  "kernelspec": {
   "display_name": "ds_env",
   "language": "python",
   "name": "python3"
  },
  "language_info": {
   "codemirror_mode": {
    "name": "ipython",
    "version": 3
   },
   "file_extension": ".py",
   "mimetype": "text/x-python",
   "name": "python",
   "nbconvert_exporter": "python",
   "pygments_lexer": "ipython3",
   "version": "3.10.13"
  }
 },
 "nbformat": 4,
 "nbformat_minor": 2
}
