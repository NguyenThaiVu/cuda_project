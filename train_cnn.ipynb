{
 "cells": [
  {
   "cell_type": "code",
   "execution_count": 1,
   "metadata": {},
   "outputs": [
    {
     "name": "stderr",
     "output_type": "stream",
     "text": [
      "2024-09-29 23:02:03.980232: E tensorflow/compiler/xla/stream_executor/cuda/cuda_dnn.cc:9342] Unable to register cuDNN factory: Attempting to register factory for plugin cuDNN when one has already been registered\n",
      "2024-09-29 23:02:03.980249: E tensorflow/compiler/xla/stream_executor/cuda/cuda_fft.cc:609] Unable to register cuFFT factory: Attempting to register factory for plugin cuFFT when one has already been registered\n",
      "2024-09-29 23:02:03.980260: E tensorflow/compiler/xla/stream_executor/cuda/cuda_blas.cc:1518] Unable to register cuBLAS factory: Attempting to register factory for plugin cuBLAS when one has already been registered\n",
      "/home/necphy/.local/lib/python3.10/site-packages/pandas/core/arrays/masked.py:60: UserWarning: Pandas requires version '1.3.6' or newer of 'bottleneck' (version '1.3.5' currently installed).\n",
      "  from pandas.core import (\n"
     ]
    }
   ],
   "source": [
    "import os\n",
    "os.environ['TF_CPP_MIN_LOG_LEVEL'] = '2' \n",
    "import tensorflow as tf\n",
    "gpus = tf.config.list_physical_devices('GPU')\n",
    "if gpus:\n",
    "  try:  tf.config.experimental.set_memory_growth(gpus[0], True)\n",
    "  except RuntimeError as e:  print(e)\n",
    "\n",
    "from PIL import Image\n",
    "import numpy as np\n",
    "import h5py\n",
    "import matplotlib.pyplot as plt\n",
    "import json\n",
    "import cv2\n",
    "\n",
    "from tensorflow.keras import layers, models\n",
    "from tensorflow.keras.datasets import mnist\n",
    "from tensorflow.keras.utils import to_categorical\n",
    "from tensorflow.keras.models import Sequential\n",
    "\n",
    "from tensorflow.keras import backend as K\n",
    "K.set_image_data_format('channels_first')"
   ]
  },
  {
   "cell_type": "code",
   "execution_count": 2,
   "metadata": {},
   "outputs": [],
   "source": [
    "(train_images, train_labels), (test_images, test_labels) = mnist.load_data()\n",
    "\n",
    "# Reshape the data to add an extra dimension (for grayscale channel)\n",
    "train_images = train_images.reshape(train_images.shape[0], 1, 28, 28)\n",
    "test_images = test_images.reshape(test_images.shape[0], 1, 28, 28)\n",
    "\n",
    "train_images = train_images.astype('float32') / 255.0\n",
    "test_images = test_images.astype('float32') / 255.0\n",
    "\n",
    "train_labels = to_categorical(train_labels, 10)\n",
    "test_labels = to_categorical(test_labels, 10)"
   ]
  },
  {
   "cell_type": "code",
   "execution_count": 3,
   "metadata": {},
   "outputs": [],
   "source": [
    "class CustomDense(tf.keras.layers.Layer):\n",
    "    def __init__(self, n_in, n_out, activation=None):\n",
    "        super(CustomDense, self).__init__()\n",
    "        self.n_in = n_in\n",
    "        self.n_out = n_out\n",
    "        self.activation = tf.keras.activations.get(activation)\n",
    "\n",
    "    def build(self, input_shape):\n",
    "        # Initialize weights and bias\n",
    "        self.w = self.add_weight(shape=(self.n_in, self.n_out), initializer='random_normal', trainable=True)\n",
    "        self.b = self.add_weight(shape=(self.n_out,), initializer='random_normal', trainable=True)\n",
    "\n",
    "    def call(self, inputs):\n",
    "        z = tf.matmul(inputs, self.w) + self.b  \n",
    "        if self.activation:\n",
    "            z = self.activation(z)  \n",
    "        return z  \n",
    "    \n",
    "    \n",
    "class CustomFlatten(tf.keras.layers.Layer):\n",
    "    def __init__(self):\n",
    "        super(CustomFlatten, self).__init__()\n",
    "\n",
    "    def call(self, inputs):\n",
    "        return tf.reshape(inputs, [tf.shape(inputs)[0], -1])"
   ]
  },
  {
   "cell_type": "code",
   "execution_count": 18,
   "metadata": {},
   "outputs": [
    {
     "name": "stdout",
     "output_type": "stream",
     "text": [
      "Model: \"sequential\"\n",
      "_________________________________________________________________\n",
      " Layer (type)                Output Shape              Param #   \n",
      "=================================================================\n",
      " conv2d (Conv2D)             (None, 32, 26, 26)        288       \n",
      "                                                                 \n",
      " activation (Activation)     (None, 32, 26, 26)        0         \n",
      "                                                                 \n",
      " max_pooling2d (MaxPooling2  (None, 32, 13, 13)        0         \n",
      " D)                                                              \n",
      "                                                                 \n",
      " conv2d_1 (Conv2D)           (None, 64, 11, 11)        18432     \n",
      "                                                                 \n",
      " activation_1 (Activation)   (None, 64, 11, 11)        0         \n",
      "                                                                 \n",
      " max_pooling2d_1 (MaxPoolin  (None, 64, 5, 5)          0         \n",
      " g2D)                                                            \n",
      "                                                                 \n",
      " custom_flatten (CustomFlat  (None, None)              0         \n",
      " ten)                                                            \n",
      "                                                                 \n",
      " custom_dense (CustomDense)  (None, 10)                16010     \n",
      "                                                                 \n",
      " activation_2 (Activation)   (None, 10)                0         \n",
      "                                                                 \n",
      "=================================================================\n",
      "Total params: 34730 (135.66 KB)\n",
      "Trainable params: 34730 (135.66 KB)\n",
      "Non-trainable params: 0 (0.00 Byte)\n",
      "_________________________________________________________________\n"
     ]
    }
   ],
   "source": [
    "tf.keras.backend.clear_session()\n",
    "model = models.Sequential()\n",
    "\n",
    "model.add(layers.Conv2D(32, (3, 3), input_shape=(1, 28, 28), use_bias=False, data_format='channels_first'))\n",
    "model.add(layers.Activation('relu'))\n",
    "\n",
    "model.add(layers.MaxPooling2D(pool_size=(2, 2), strides=2, data_format='channels_first'))\n",
    "\n",
    "model.add(layers.Conv2D(64, (3, 3), use_bias=False, data_format='channels_first'))\n",
    "model.add(layers.Activation('relu'))\n",
    "\n",
    "model.add(layers.MaxPooling2D(pool_size=(2, 2), strides=2, data_format='channels_first'))\n",
    "\n",
    "model.add(CustomFlatten())\n",
    "\n",
    "model.add(CustomDense(n_in=64*5*5, n_out=10)) \n",
    "model.add(layers.Activation('softmax'))\n",
    "\n",
    "model.compile(optimizer='adam', loss='categorical_crossentropy', metrics=['accuracy'])\n",
    "\n",
    "model.summary()"
   ]
  },
  {
   "cell_type": "code",
   "execution_count": 19,
   "metadata": {},
   "outputs": [
    {
     "name": "stdout",
     "output_type": "stream",
     "text": [
      "Epoch 1/5\n"
     ]
    },
    {
     "name": "stdout",
     "output_type": "stream",
     "text": [
      "469/469 [==============================] - 1s 1ms/step - loss: 0.2706 - accuracy: 0.9235 - val_loss: 0.0731 - val_accuracy: 0.9786\n",
      "Epoch 2/5\n",
      "469/469 [==============================] - 0s 1ms/step - loss: 0.0756 - accuracy: 0.9772 - val_loss: 0.0614 - val_accuracy: 0.9812\n",
      "Epoch 3/5\n",
      "469/469 [==============================] - 1s 1ms/step - loss: 0.0556 - accuracy: 0.9827 - val_loss: 0.0448 - val_accuracy: 0.9844\n",
      "Epoch 4/5\n",
      "469/469 [==============================] - 1s 1ms/step - loss: 0.0453 - accuracy: 0.9856 - val_loss: 0.0430 - val_accuracy: 0.9857\n",
      "Epoch 5/5\n",
      "469/469 [==============================] - 0s 1ms/step - loss: 0.0389 - accuracy: 0.9878 - val_loss: 0.0444 - val_accuracy: 0.9857\n",
      "313/313 - 0s - loss: 0.0444 - accuracy: 0.9857 - 193ms/epoch - 615us/step\n",
      "Test accuracy: 0.9857\n"
     ]
    }
   ],
   "source": [
    "model.fit(train_images, train_labels, batch_size=128, epochs=5, validation_data=(test_images, test_labels))\n",
    "\n",
    "test_loss, test_acc = model.evaluate(test_images, test_labels, verbose=2)\n",
    "print(f'Test accuracy: {test_acc:.4f}')"
   ]
  },
  {
   "cell_type": "markdown",
   "metadata": {},
   "source": [
    "# Save trained weight into `txt` format."
   ]
  },
  {
   "cell_type": "code",
   "execution_count": 20,
   "metadata": {},
   "outputs": [
    {
     "name": "stdout",
     "output_type": "stream",
     "text": [
      "4\n",
      "weight shape: (3, 3, 1, 32)\n",
      "weight shape: (3, 3, 32, 64)\n",
      "weight shape: (1600, 10)\n",
      "weight shape: (10,)\n"
     ]
    }
   ],
   "source": [
    "PATH_WEIGHT_FOLDER = r\"weight\"\n",
    "\n",
    "weights = model.get_weights()\n",
    "print(len(weights))\n",
    "\n",
    "for weight in weights:\n",
    "    print(f\"weight shape: {weight.shape}\")  "
   ]
  },
  {
   "cell_type": "code",
   "execution_count": 26,
   "metadata": {},
   "outputs": [
    {
     "name": "stdout",
     "output_type": "stream",
     "text": [
      "Weights and biases saved to separate .txt files.\n"
     ]
    }
   ],
   "source": [
    "conv_weight = tf.transpose(weights[0], perm=[3, 2, 0, 1]).numpy()\n",
    "np.savetxt(os.path.join(PATH_WEIGHT_FOLDER, 'conv2d_weights.txt'), conv_weight.flatten(), fmt='%f', delimiter=' ')\n",
    "\n",
    "conv_1_weight = tf.transpose(weights[1], perm=[3, 2, 0, 1]).numpy()\n",
    "np.savetxt(os.path.join(PATH_WEIGHT_FOLDER, 'conv2d_1_weights.txt'), conv_1_weight.flatten(), fmt='%f', delimiter=' ')\n",
    "\n",
    "np.savetxt(os.path.join(PATH_WEIGHT_FOLDER, 'dense_weights.txt'), weights[2].flatten(), fmt='%f', delimiter=' ')\n",
    "np.savetxt(os.path.join(PATH_WEIGHT_FOLDER, 'dense_bias.txt'), weights[3], fmt='%f', delimiter=' ')\n",
    "\n",
    "print(\"Weights and biases saved to separate .txt files.\")"
   ]
  },
  {
   "cell_type": "markdown",
   "metadata": {},
   "source": [
    "# Run prediction"
   ]
  },
  {
   "cell_type": "code",
   "execution_count": 29,
   "metadata": {},
   "outputs": [
    {
     "name": "stdout",
     "output_type": "stream",
     "text": [
      "(28, 28)\n"
     ]
    },
    {
     "data": {
      "text/plain": [
       "<matplotlib.image.AxesImage at 0x7f59683ff010>"
      ]
     },
     "execution_count": 29,
     "metadata": {},
     "output_type": "execute_result"
    },
    {
     "data": {
      "image/png": "[encoded data removed]",
      "text/plain": [
       "<Figure size 640x480 with 1 Axes>"
      ]
     },
     "metadata": {},
     "output_type": "display_data"
    }
   ],
   "source": [
    "img_path = 'image/digit_gray.jpg'\n",
    "\n",
    "img = cv2.imread(img_path, cv2.IMREAD_GRAYSCALE)\n",
    "img = np.array(img)\n",
    "print(img.shape)\n",
    "\n",
    "plt.imshow(img, cmap='gray')"
   ]
  },
  {
   "cell_type": "code",
   "execution_count": 30,
   "metadata": {},
   "outputs": [
    {
     "name": "stdout",
     "output_type": "stream",
     "text": [
      "Predicted probabilities: [[1.4144456e-02 2.7578779e-02 8.3968640e-05 8.0715420e-11 9.1218239e-01\n",
      "  6.4961128e-08 3.1494787e-05 4.5977071e-02 1.6956728e-06 6.7734014e-08]]\n",
      "Predicted digit: 4\n",
      "Predicted digit probability: 0.9121823906898499\n"
     ]
    }
   ],
   "source": [
    "# Normalize the pixel values to [0, 1]\n",
    "img_normalized = img.astype('float32') / 255.0\n",
    "\n",
    "img_input = np.reshape(img_normalized, (1, 1, 28, 28))\n",
    "\n",
    "predicted_proba = model.predict(img_input, verbose=0)\n",
    "\n",
    "# Print the predicted probabilities for each class (digits 0-9)\n",
    "print(\"Predicted probabilities:\", predicted_proba)\n",
    "predicted_digit = np.argmax(predicted_proba)\n",
    "print(f\"Predicted digit: {predicted_digit}\")\n",
    "print(f\"Predicted digit probability: {predicted_proba[0][predicted_digit]}\")"
   ]
  },
  {
   "cell_type": "markdown",
   "metadata": {},
   "source": [
    "## Get output of Conv"
   ]
  },
  {
   "cell_type": "code",
   "execution_count": null,
   "metadata": {},
   "outputs": [],
   "source": [
    "layer_name = 'activation'\n",
    "conv2d_layer = model.get_layer(name=layer_name)\n",
    "\n",
    "intermediate_model = tf.keras.models.Model(inputs=model.input, outputs=conv2d_layer.output)\n",
    "\n",
    "# Get the output of the 'conv2d' layer\n",
    "conv2d_output = intermediate_model.predict(img_input)\n",
    "\n",
    "# Display the shape of the output tensor\n",
    "print(\"Shape of 'conv2d' layer output:\", conv2d_output.shape)"
   ]
  },
  {
   "cell_type": "code",
   "execution_count": null,
   "metadata": {},
   "outputs": [],
   "source": [
    "print(conv2d_output.flatten()[:100])"
   ]
  },
  {
   "cell_type": "code",
   "execution_count": null,
   "metadata": {},
   "outputs": [],
   "source": [
    "conv2d_output.shape"
   ]
  },
  {
   "cell_type": "markdown",
   "metadata": {},
   "source": [
    "# Get output Flatten"
   ]
  },
  {
   "cell_type": "code",
   "execution_count": null,
   "metadata": {},
   "outputs": [],
   "source": [
    "layer_name = 'custom_flatten'\n",
    "flatten_layer = model.get_layer(name=layer_name)\n",
    "\n",
    "intermediate_model = tf.keras.models.Model(inputs=model.input, outputs=flatten_layer.output)\n",
    "\n",
    "flatten_output = intermediate_model.predict(img_input)\n",
    "\n",
    "# Display the shape of the output tensor\n",
    "print(\"Shape of 'flatten_output' layer output:\", flatten_output.shape)"
   ]
  },
  {
   "cell_type": "code",
   "execution_count": null,
   "metadata": {},
   "outputs": [],
   "source": [
    "print(flatten_output.flatten()[0:100])"
   ]
  },
  {
   "cell_type": "markdown",
   "metadata": {},
   "source": [
    "## Get output of FC"
   ]
  },
  {
   "cell_type": "code",
   "execution_count": null,
   "metadata": {},
   "outputs": [],
   "source": [
    "layer_name = 'custom_dense'\n",
    "dense_layer = model.get_layer(name=layer_name)\n",
    "\n",
    "intermediate_model = tf.keras.models.Model(inputs=model.input, outputs=dense_layer.output)\n",
    "\n",
    "# Get the output of the 'conv2d' layer \n",
    "dense_output = intermediate_model.predict(img_input)\n",
    "\n",
    "# Display the shape of the output tensor\n",
    "print(\"Shape of 'dense' layer output:\", dense_output.shape)"
   ]
  },
  {
   "cell_type": "code",
   "execution_count": null,
   "metadata": {},
   "outputs": [],
   "source": []
  },
  {
   "cell_type": "code",
   "execution_count": null,
   "metadata": {},
   "outputs": [],
   "source": []
  },
  {
   "cell_type": "code",
   "execution_count": null,
   "metadata": {},
   "outputs": [],
   "source": []
  }
 ],
 "metadata": {
  "kernelspec": {
   "display_name": "ds_env",
   "language": "python",
   "name": "python3"
  },
  "language_info": {
   "codemirror_mode": {
    "name": "ipython",
    "version": 3
   },
   "file_extension": ".py",
   "mimetype": "text/x-python",
   "name": "python",
   "nbconvert_exporter": "python",
   "pygments_lexer": "ipython3",
   "version": "3.10.13"
  }
 },
 "nbformat": 4,
 "nbformat_minor": 2
}
